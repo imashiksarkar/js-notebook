{
 "cells": [
  {
   "cell_type": "code",
   "execution_count": 7,
   "id": "af733444",
   "metadata": {},
   "outputs": [
    {
     "data": {
      "text/plain": [
       "7"
      ]
     },
     "execution_count": 7,
     "metadata": {},
     "output_type": "execute_result"
    }
   ],
   "source": [
    "process.chdir('/home/node/notebooks')\n",
    "module.paths.unshift('/home/node/notebooks/node_modules')"
   ]
  },
  {
   "cell_type": "code",
   "execution_count": 8,
   "id": "a04c96d3",
   "metadata": {},
   "outputs": [],
   "source": [
    "var axios = require('axios')"
   ]
  },
  {
   "cell_type": "code",
   "execution_count": 9,
   "id": "456d2d78",
   "metadata": {},
   "outputs": [],
   "source": [
    "var response;\n",
    "(async () => {\n",
    "  response = await axios.get('https://jsonplaceholder.typicode.com/todos/1')\n",
    "})()"
   ]
  },
  {
   "cell_type": "code",
   "execution_count": 10,
   "id": "205373eb",
   "metadata": {},
   "outputs": [
    {
     "data": {
      "text/plain": [
       "{ userId: 1,\n",
       "  id: 1,\n",
       "  title: 'delectus aut autem',\n",
       "  completed: false }"
      ]
     },
     "execution_count": 10,
     "metadata": {},
     "output_type": "execute_result"
    }
   ],
   "source": [
    "// parseInt(response.headers[\"content-length\"])\n",
    "response.data"
   ]
  }
 ],
 "metadata": {
  "kernelspec": {
   "display_name": "Javascript (Node.js)",
   "language": "javascript",
   "name": "javascript"
  },
  "language_info": {
   "file_extension": ".js",
   "mimetype": "application/javascript",
   "name": "javascript",
   "version": "10.9.0"
  }
 },
 "nbformat": 4,
 "nbformat_minor": 5
}
